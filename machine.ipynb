{
  "cells": [
    {
      "cell_type": "markdown",
      "metadata": {
        "colab_type": "text",
        "id": "view-in-github"
      },
      "source": [
        "<a href=\"https://colab.research.google.com/github/aditya-pandey-ai/Projects/blob/master/machine.ipynb\" target=\"_parent\"><img src=\"https://colab.research.google.com/assets/colab-badge.svg\" alt=\"Open In Colab\"/></a>"
      ]
    },
    {
      "cell_type": "markdown",
      "metadata": {
        "id": "PcpJJx2yBtLl"
      },
      "source": []
    },
    {
      "cell_type": "markdown",
      "metadata": {
        "id": "gTE2DQgUBbxw"
      },
      "source": [
        "In this file I trained a model using the Simple MNIST dataset\n",
        "which is used to classify images\n",
        "\n"
      ]
    },
    {
      "cell_type": "code",
      "execution_count": null,
      "metadata": {
        "colab": {
          "base_uri": "https://localhost:8080/"
        },
        "id": "sg3fvzqtsUnw",
        "outputId": "6b7d9999-f9b2-4a16-c024-6f8bb89f15bb"
      },
      "outputs": [
        {
          "name": "stdout",
          "output_type": "stream",
          "text": [
            "TensorFlow version: 2.12.0\n"
          ]
        }
      ],
      "source": [
        "import tensorflow as tf\n",
        "print(\"TensorFlow version:\", tf.__version__)"
      ]
    },
    {
      "cell_type": "code",
      "execution_count": null,
      "metadata": {
        "colab": {
          "base_uri": "https://localhost:8080/"
        },
        "id": "VoDo3FB3shTN",
        "outputId": "49b74718-0557-4e48-cc86-811ebbf73e55"
      },
      "outputs": [
        {
          "name": "stdout",
          "output_type": "stream",
          "text": [
            "Downloading data from https://storage.googleapis.com/tensorflow/tf-keras-datasets/mnist.npz\n",
            "11490434/11490434 [==============================] - 0s 0us/step\n"
          ]
        }
      ],
      "source": [
        "mnist = tf.keras.datasets.mnist\n",
        "\n",
        "(x_train, y_train), (x_test, y_test) = mnist.load_data()\n",
        "x_train, x_test = x_train / 255.0, x_test / 255.0"
      ]
    },
    {
      "cell_type": "code",
      "execution_count": null,
      "metadata": {
        "id": "oohY1jjPtJe8"
      },
      "outputs": [],
      "source": [
        "model = tf.keras.models.Sequential([\n",
        "  tf.keras.layers.Flatten(input_shape=(28, 28)),\n",
        "  tf.keras.layers.Dense(128, activation='relu'),\n",
        "  tf.keras.layers.Dropout(0.2),\n",
        "  tf.keras.layers.Dense(10)\n",
        "])\n"
      ]
    },
    {
      "cell_type": "code",
      "execution_count": null,
      "metadata": {
        "colab": {
          "base_uri": "https://localhost:8080/"
        },
        "id": "Qc2OPpxLtKhm",
        "outputId": "53c760ba-e16f-48c4-8d2f-410a96b6046d"
      },
      "outputs": [
        {
          "data": {
            "text/plain": [
              "array([[ 0.01862293, -0.4593196 ,  0.07501903, -0.64734584, -1.655127  ,\n",
              "         0.04018699,  0.5709466 , -0.73838377, -0.03141998, -0.56438553]],\n",
              "      dtype=float32)"
            ]
          },
          "execution_count": 4,
          "metadata": {},
          "output_type": "execute_result"
        }
      ],
      "source": [
        "predictions = model(x_train[:1]).numpy()\n",
        "predictions"
      ]
    },
    {
      "cell_type": "code",
      "execution_count": null,
      "metadata": {
        "colab": {
          "base_uri": "https://localhost:8080/"
        },
        "id": "QG3hiwNvtWs1",
        "outputId": "dcf71e80-a581-480b-f4a0-9dd1fdd25ab4"
      },
      "outputs": [
        {
          "data": {
            "text/plain": [
              "array([[0.12319901, 0.07639051, 0.1303466 , 0.06329663, 0.02310504,\n",
              "        0.12588453, 0.2140318 , 0.05778876, 0.11718549, 0.06877171]],\n",
              "      dtype=float32)"
            ]
          },
          "execution_count": 5,
          "metadata": {},
          "output_type": "execute_result"
        }
      ],
      "source": [
        "tf.nn.softmax(predictions).numpy()"
      ]
    },
    {
      "cell_type": "code",
      "execution_count": null,
      "metadata": {
        "id": "y1QhjQv-tXWn"
      },
      "outputs": [],
      "source": [
        "loss_fn = tf.keras.losses.SparseCategoricalCrossentropy(from_logits=True)"
      ]
    },
    {
      "cell_type": "code",
      "execution_count": null,
      "metadata": {
        "colab": {
          "base_uri": "https://localhost:8080/"
        },
        "id": "XbDwqK5Qtgog",
        "outputId": "452eb260-71d0-4a9a-bd85-a970de7742f2"
      },
      "outputs": [
        {
          "data": {
            "text/plain": [
              "2.0723903"
            ]
          },
          "execution_count": 7,
          "metadata": {},
          "output_type": "execute_result"
        }
      ],
      "source": [
        "loss_fn(y_train[:1], predictions).numpy()"
      ]
    },
    {
      "cell_type": "code",
      "execution_count": null,
      "metadata": {
        "id": "enCjqtUAtkyj"
      },
      "outputs": [],
      "source": [
        "model.compile(optimizer='adam',\n",
        "              loss=loss_fn,\n",
        "              metrics=['accuracy'])"
      ]
    },
    {
      "cell_type": "code",
      "execution_count": null,
      "metadata": {
        "colab": {
          "base_uri": "https://localhost:8080/"
        },
        "id": "ORe3o25AtvS2",
        "outputId": "7dd32928-7244-485b-df69-c74be64a50cc"
      },
      "outputs": [
        {
          "name": "stdout",
          "output_type": "stream",
          "text": [
            "Epoch 1/5\n",
            "1875/1875 [==============================] - 8s 4ms/step - loss: 0.2967 - accuracy: 0.9140\n",
            "Epoch 2/5\n",
            "1875/1875 [==============================] - 12s 6ms/step - loss: 0.1450 - accuracy: 0.9578\n",
            "Epoch 3/5\n",
            "1875/1875 [==============================] - 11s 6ms/step - loss: 0.1086 - accuracy: 0.9666\n",
            "Epoch 4/5\n",
            "1875/1875 [==============================] - 7s 4ms/step - loss: 0.0888 - accuracy: 0.9734\n",
            "Epoch 5/5\n",
            "1875/1875 [==============================] - 7s 4ms/step - loss: 0.0761 - accuracy: 0.9763\n"
          ]
        },
        {
          "data": {
            "text/plain": [
              "<keras.callbacks.History at 0x7f12c7b69c60>"
            ]
          },
          "execution_count": 9,
          "metadata": {},
          "output_type": "execute_result"
        }
      ],
      "source": [
        "model.fit(x_train, y_train, epochs=5)"
      ]
    },
    {
      "cell_type": "code",
      "execution_count": null,
      "metadata": {
        "colab": {
          "base_uri": "https://localhost:8080/"
        },
        "id": "Qiho6NX_t0Hw",
        "outputId": "b0588202-5e6f-4781-fe55-ce6fa8964b37"
      },
      "outputs": [
        {
          "name": "stdout",
          "output_type": "stream",
          "text": [
            "313/313 - 1s - loss: 0.0739 - accuracy: 0.9778 - 562ms/epoch - 2ms/step\n"
          ]
        },
        {
          "data": {
            "text/plain": [
              "[0.0739186555147171, 0.9778000116348267]"
            ]
          },
          "execution_count": 10,
          "metadata": {},
          "output_type": "execute_result"
        }
      ],
      "source": [
        "model.evaluate(x_test,  y_test, verbose=2)"
      ]
    },
    {
      "cell_type": "code",
      "execution_count": null,
      "metadata": {
        "id": "0WU7dZj9uOzk"
      },
      "outputs": [],
      "source": [
        "probability_model = tf.keras.Sequential([\n",
        "  model,\n",
        "  tf.keras.layers.Softmax()\n",
        "])"
      ]
    },
    {
      "cell_type": "code",
      "execution_count": null,
      "metadata": {
        "colab": {
          "base_uri": "https://localhost:8080/"
        },
        "id": "ZDMbg3ivuWI7",
        "outputId": "51d0f257-801b-4dad-e1ce-2ec226debe25"
      },
      "outputs": [
        {
          "data": {
            "text/plain": [
              "<tf.Tensor: shape=(5, 10), dtype=float32, numpy=\n",
              "array([[1.02513864e-08, 9.09260223e-10, 2.15615415e-07, 1.05486815e-05,\n",
              "        3.66450712e-13, 4.48846365e-08, 2.62521152e-13, 9.99988675e-01,\n",
              "        1.42760594e-08, 5.31872502e-07],\n",
              "       [1.20091741e-08, 9.27212932e-06, 9.99982476e-01, 4.60231013e-06,\n",
              "        5.61901498e-14, 2.54630481e-06, 5.45214967e-08, 9.14163019e-15,\n",
              "        1.05307390e-06, 1.77075607e-12],\n",
              "       [3.51602090e-08, 9.99861002e-01, 6.76973059e-06, 7.70202575e-07,\n",
              "        9.55540327e-06, 1.05322715e-06, 5.44813304e-07, 9.30918395e-05,\n",
              "        2.71075005e-05, 4.63526462e-08],\n",
              "       [9.99879956e-01, 2.06407691e-09, 1.31548404e-05, 9.17676068e-09,\n",
              "        2.70361209e-08, 2.03922639e-07, 9.68305685e-05, 8.56219049e-06,\n",
              "        1.86650393e-08, 1.17173147e-06],\n",
              "       [4.30816999e-06, 2.80215628e-09, 1.35112978e-05, 4.20375585e-07,\n",
              "        9.97120500e-01, 8.21646537e-08, 2.02548813e-06, 2.12751067e-04,\n",
              "        1.36246126e-06, 2.64505460e-03]], dtype=float32)>"
            ]
          },
          "execution_count": 12,
          "metadata": {},
          "output_type": "execute_result"
        }
      ],
      "source": [
        "probability_model(x_test[:5])"
      ]
    },
    {
      "cell_type": "code",
      "execution_count": null,
      "metadata": {
        "id": "L9hXMRuduZ2U"
      },
      "outputs": [],
      "source": []
    }
  ],
  "metadata": {
    "colab": {
      "authorship_tag": "ABX9TyMQY2RcBeFL8u+6jcV+eddi",
      "include_colab_link": true,
      "provenance": []
    },
    "kernelspec": {
      "display_name": "Python 3",
      "name": "python3"
    },
    "language_info": {
      "name": "python"
    }
  },
  "nbformat": 4,
  "nbformat_minor": 0
}
